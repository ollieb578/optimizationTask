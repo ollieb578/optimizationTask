{
 "cells": [
  {
   "cell_type": "raw",
   "id": "c9c18efc-aa7f-49ca-8abf-3b5fd5ee1c84",
   "metadata": {},
   "source": [
    "By Oliver Barnes (1905121)\n",
    "\n",
    "Documentation\n",
    "\n",
    "1. Simulated annealing is the stochastic method I used.\n",
    "2. I chose this approach as I was more confident implementing this over genetic methods.\n",
    "3. I am using a \"death penalty\" approach for constraint handling, where values that violate the constraint are simply thrown away and generated again."
   ]
  },
  {
   "cell_type": "code",
   "execution_count": 1,
   "id": "c7cdfbc3-8796-4626-aa98-2614a11d97e3",
   "metadata": {},
   "outputs": [],
   "source": [
    "import math\n",
    "import numpy as np\n",
    "\n",
    "# task 1\n",
    "# function implementation\n",
    "\n",
    "# counter vars\n",
    "fcount = 0\n",
    "g1count = 0\n",
    "g2count = 0\n",
    "g3count = 0\n",
    "g4count = 0\n",
    "\n",
    "# counter reset\n",
    "def reset():\n",
    "    global fcount; fcount = 0\n",
    "    global g1count; g1count = 0\n",
    "    global g2count; g2count = 0\n",
    "    global g3count; g3count = 0\n",
    "    global g4count; g4count = 0\n",
    "\n",
    "# objective function\n",
    "def f(x):\n",
    "    z1 = 0.0625 * x[0] \n",
    "    z2 = 0.0625 * x[1]\n",
    "    \n",
    "    global fcount\n",
    "    fcount += 1\n",
    "    \n",
    "    return((1.7781 * z2 * (x[2]**2)) + (0.6224 * z1 * x[2] * x[3]) + (3.1661 * (z1**2) * x[3]) + (19.84 * (z1**2) * x[2]))\n",
    "\n",
    "# constraints\n",
    "def g1(x):\n",
    "    global g1count\n",
    "    g1count += 1\n",
    "    \n",
    "    return(0.00954 * x[2])\n",
    "\n",
    "def g2(x):\n",
    "    global g2count\n",
    "    g2count += 1\n",
    "    return(0.0193 * x[2])\n",
    "\n",
    "def g3(x):\n",
    "    global g3count\n",
    "    g3count += 1\n",
    "    return(x[3])\n",
    "\n",
    "def g4(x):\n",
    "    global g4count\n",
    "    g4count += 1\n",
    "    return((-1 * math.pi * (x[2]**2) * x[3]) - ((4/3) * math.pi * (x[2]**3)))\n",
    "\n",
    "def applyConstraints(x):\n",
    "    z1 = 0.0625 * x[0] \n",
    "    z2 = 0.0625 * x[1]\n",
    "    \n",
    "    if (g1(x) > z2):\n",
    "        return (1)\n",
    "    elif (g2(x) > z1):\n",
    "        return (2)\n",
    "    elif (g3(x) > 240):\n",
    "        return (3)\n",
    "    elif (g4(x) > -1296000):\n",
    "        return (4)\n",
    "    else:\n",
    "        return (0)"
   ]
  },
  {
   "cell_type": "code",
   "execution_count": 2,
   "id": "8acdc316-2ffb-4332-b149-155713efc575",
   "metadata": {
    "scrolled": true
   },
   "outputs": [
    {
     "name": "stdout",
     "output_type": "stream",
     "text": [
      "Objective function output:  572.77017736475\n",
      "Constraint function 1 output:  0.11140812000000001\n",
      "Constraint function 2 output:  0.22538540000000004\n",
      "Constraint function 3 output:  88.76\n",
      "Constraint function 4 output:  -44699.10187026799\n"
     ]
    }
   ],
   "source": [
    "# test for function implementations\n",
    "import numpy as np\n",
    "x = np.array([1, 35, 11.678, 88.76])\n",
    "print(\"Objective function output: \", f(x))\n",
    "print(\"Constraint function 1 output: \", g1(x))\n",
    "print(\"Constraint function 2 output: \", g2(x))\n",
    "print(\"Constraint function 3 output: \", g3(x))\n",
    "print(\"Constraint function 4 output: \", g4(x))"
   ]
  },
  {
   "cell_type": "code",
   "execution_count": 3,
   "id": "3bb17f2f-d312-4aa2-9f51-cf29d0f214e4",
   "metadata": {
    "tags": []
   },
   "outputs": [],
   "source": [
    "import numpy as np\n",
    "\n",
    "# task 2\n",
    "# random search implementation\n",
    "\n",
    "# this function generates an array for x that complies with constraints\n",
    "def randomElement():\n",
    "    x = np.array([0, 0, 0.0, 0.0])\n",
    "    \n",
    "    x[0] = np.random.randint(1, 99)\n",
    "    x[1] = np.random.randint(1, 99)\n",
    "    x[2] = np.random.uniform(10, 200)\n",
    "    x[3] = np.random.uniform(10, 200)\n",
    "    \n",
    "    constraint = applyConstraints(x)\n",
    "    \n",
    "    while (constraint != 0):\n",
    "        constraint = applyConstraints(x)\n",
    "        #print(\"a\")\n",
    "        if (constraint == 1):\n",
    "            x[1] = np.random.randint(1, 99)\n",
    "            x[2] = np.random.uniform(10, 200)\n",
    "        if (constraint == 2):\n",
    "            x[0] = np.random.randint(1, 99)\n",
    "            x[2] = np.random.uniform(10, 200)\n",
    "        if (constraint == 3):\n",
    "            x[3] = np.random.uniform(10, 200)\n",
    "        if (constraint == 4):\n",
    "            x[2] = np.random.uniform(10, 200)\n",
    "            x[3] = np.random.uniform(10, 200)\n",
    "    \n",
    "    return (x)\n",
    "\n",
    "# performs a random search\n",
    "# max_iter (int) number of iterations (evaluations of any function f(x) or g(x))\n",
    "def randomSearch(max_iter):\n",
    "    global fcount; global g1count; global g2count; global g3count; global g4count\n",
    "    fbest = 10000000\n",
    "    best = np.array([0, 0, 0.0, 0.0])\n",
    "    \n",
    "    #resets function counters\n",
    "    reset()\n",
    "    \n",
    "    while (fcount < max_iter and g1count < max_iter and\n",
    "           g2count < max_iter and g3count < max_iter and \n",
    "           g4count < max_iter):\n",
    "           \n",
    "            result = randomElement()\n",
    "            \n",
    "            if (f(result) < fbest):\n",
    "                fbest = f(result)\n",
    "                best = result\n",
    "                \n",
    "    #print(fbest)\n",
    "    #print(best)\n",
    "    #print(fcount, \"|\", g1count, \"|\", g2count, \"|\", g3count, \"|\", g4count)\n",
    "    reset()\n",
    "    return(fbest)\n",
    "    "
   ]
  },
  {
   "cell_type": "code",
   "execution_count": 4,
   "id": "04706788-c10a-4840-a74c-3215cc4e9dff",
   "metadata": {},
   "outputs": [
    {
     "data": {
      "text/plain": [
       "14777.957639301927"
      ]
     },
     "execution_count": 4,
     "metadata": {},
     "output_type": "execute_result"
    }
   ],
   "source": [
    "# test\n",
    "randomSearch(4000)"
   ]
  },
  {
   "cell_type": "code",
   "execution_count": 5,
   "id": "cdb9bda9-8bb9-4d07-b659-4a1462aa9024",
   "metadata": {},
   "outputs": [],
   "source": [
    "import math as m\n",
    "import numpy as np\n",
    "\n",
    "# task 3\n",
    "# simulated annealing\n",
    "\n",
    "# calculates acceptance probability\n",
    "def acceptance(x, xbest, k):\n",
    "    dy = f(x) - f(xbest)\n",
    "    ti = 5000\n",
    "    tk = ti/k\n",
    "    \n",
    "    if (dy <= 0):\n",
    "        return(1)\n",
    "    else:\n",
    "        output = min(m.exp(-dy/tk), 1)\n",
    "        return(output)\n",
    "\n",
    "# generates new x values\n",
    "# based on gaussian distribution\n",
    "# xc is a numpy array of current best x values\n",
    "\n",
    "def newElement(xc):\n",
    "    x = np.array([0, 0, 0.0, 0.0])\n",
    "    \n",
    "    x[0] = np.random.normal(xc[0], 1)\n",
    "    x[1] = np.random.normal(xc[1], 1)\n",
    "    x[2] = np.random.normal(xc[2], 2)\n",
    "    x[3] = np.random.normal(xc[3], 2)\n",
    "    \n",
    "    constraint = applyConstraints(x)\n",
    "    \n",
    "    while (constraint != 0):\n",
    "        constraint = applyConstraints(x)\n",
    "        #print(\"a\")\n",
    "        if (constraint == 1):\n",
    "            x[1] = np.random.normal(xc[1], 1)\n",
    "            x[2] = np.random.normal(xc[2], 2)\n",
    "        if (constraint == 2):\n",
    "            x[0] = np.random.normal(xc[0], 1)\n",
    "            x[2] = np.random.normal(xc[2], 2)\n",
    "        if (constraint == 3):\n",
    "            x[3] = np.random.normal(xc[3], 2)\n",
    "        if (constraint == 4):\n",
    "            x[2] = np.random.normal(xc[2], 2)\n",
    "            x[3] = np.random.normal(xc[3], 2)\n",
    "    \n",
    "    x[0] = m.trunc(x[0])\n",
    "    x[1] = m.trunc(x[1])\n",
    "    return (x)\n",
    "\n",
    "# performs simulated annealing\n",
    "def simAnnealing(max_iter):\n",
    "    xbest = randomElement()\n",
    "    ybest = f(xbest)\n",
    "    xcurrent = xbest\n",
    "    k = 1\n",
    "    \n",
    "    reset()\n",
    "    \n",
    "    while (fcount < max_iter and g1count < max_iter and\n",
    "           g2count < max_iter and g3count < max_iter and \n",
    "           g4count < max_iter):\n",
    "        xprime = newElement(xcurrent)\n",
    "        yprime = f(xprime)\n",
    "        \n",
    "        if (np.random.uniform() <= acceptance(xprime, xbest, k)):\n",
    "            xcurrent = xprime\n",
    "        if (yprime < ybest):\n",
    "            xbest = xprime\n",
    "            ybest = yprime\n",
    "    # print(xbest)\n",
    "    return(ybest)"
   ]
  },
  {
   "cell_type": "code",
   "execution_count": 9,
   "id": "ced3c57d-b276-48cb-8df9-3c77b794bb46",
   "metadata": {},
   "outputs": [
    {
     "data": {
      "text/plain": [
       "5927.2096177066815"
      ]
     },
     "execution_count": 9,
     "metadata": {},
     "output_type": "execute_result"
    }
   ],
   "source": [
    "#test\n",
    "xprev = np.array([16, 11, 45.55412294, 177.63441058]) # 9039.438838998805\n",
    "x = np.array([16, 19, 47.24637389, 138.21540878]) # 10152.672207918571\n",
    "xc = np.array([16, 19, 47.24637389, 138.21540878]) # 10152.672207918571\n",
    "#acceptance(x, xprev, 1)\n",
    "#newElement(xc)\n",
    "\n",
    "simAnnealing(4000)"
   ]
  },
  {
   "cell_type": "code",
   "execution_count": 13,
   "id": "0ef65795-b757-440f-bd9c-2e556611df28",
   "metadata": {},
   "outputs": [
    {
     "data": {
      "image/png": "[encoded data removed]",
      "text/plain": [
       "<Figure size 432x288 with 1 Axes>"
      ]
     },
     "metadata": {
      "needs_background": "light"
     },
     "output_type": "display_data"
    },
    {
     "name": "stdout",
     "output_type": "stream",
     "text": [
      "[[10752.28286776353, 13445.573605822787, 12152.435609427723, 9678.336559520418, 13594.198566680052, 14012.717423706481, 10393.60236119033, 7378.366220528364, 10654.327252449433, 13675.558191768863, 10953.40454543272, 13975.807328036077, 10633.99396577862, 13204.509388233988, 11806.182130332618, 13277.436626371438, 13699.104391924964, 11254.340727262259, 11682.19011887976, 11647.212994601014, 9737.050974680167], [5933.409924274655, 6102.195759649899, 5804.9922840214895, 6189.220286734426, 5550.151363645044, 5941.595777360495, 5437.731993178914, 6014.420384836773, 5616.237289276238, 5933.002506966714, 5768.294042931344, 5917.18227257207, 6030.272041923727, 6093.9751082102075, 6138.7592144884175, 5886.030843769986, 6009.964241727382, 5547.070122098328, 5761.4070618012865, 5931.64422072857, 5634.928744321806]]\n"
     ]
    }
   ],
   "source": [
    "import matplotlib.pyplot as plt\n",
    "\n",
    "# task 4\n",
    "\n",
    "#\n",
    "# as can be seen from my results (each tuple representing one of the 21 runs of the program, where the first number is the random search result\n",
    "# and the second number is the simulated annealing result), simulated annealing consistently provides better results than the random search,\n",
    "# with values of f(x) far closer to the best known solution provided of 5.8853327736*10^3.\n",
    "#\n",
    "\n",
    "random = []\n",
    "stochastic = []\n",
    "out = []\n",
    "\n",
    "for counter in range (21):\n",
    "    random.append(randomSearch(4000))\n",
    "    stochastic.append(simAnnealing(4000))\n",
    "\n",
    "out.append(random)\n",
    "out.append(stochastic)\n",
    "    \n",
    "plt.boxplot(out)\n",
    "plt.show()\n",
    "\n",
    "print(out)"
   ]
  },
  {
   "cell_type": "code",
   "execution_count": null,
   "id": "0e4767aa-3203-4d13-a1f1-5c4a22728cfd",
   "metadata": {},
   "outputs": [],
   "source": []
  }
 ],
 "metadata": {
  "kernelspec": {
   "display_name": "Python 3 (ipykernel)",
   "language": "python",
   "name": "python3"
  },
  "language_info": {
   "codemirror_mode": {
    "name": "ipython",
    "version": 3
   },
   "file_extension": ".py",
   "mimetype": "text/x-python",
   "name": "python",
   "nbconvert_exporter": "python",
   "pygments_lexer": "ipython3",
   "version": "3.10.0"
  }
 },
 "nbformat": 4,
 "nbformat_minor": 5
}
